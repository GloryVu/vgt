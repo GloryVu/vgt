{
 "cells": [
  {
   "cell_type": "markdown",
   "metadata": {},
   "source": [
    "## 1. Convert label studio format to splitted by domain coco dataset\n",
    "<!-- ## 2. Prepare images: convert pdf page -> img by pdf2img.py\n",
    "## 3. Create grids -->"
   ]
  },
  {
   "cell_type": "code",
   "execution_count": 1,
   "metadata": {},
   "outputs": [],
   "source": [
    "import json\n",
    "from tqdm import tqdm\n",
    "import os\n",
    "import fitz \n",
    "import re"
   ]
  },
  {
   "cell_type": "code",
   "execution_count": 2,
   "metadata": {},
   "outputs": [],
   "source": [
    "with open('annotated_files.json') as f:\n",
    "    docs = json.load(f)\n",
    "\n",
    "docidx_by_domain = {}\n",
    "for i, doc in enumerate(docs):\n",
    "    domain = doc['data']['domain']\n",
    "    if domain not in docidx_by_domain.keys():\n",
    "        docidx_by_domain[domain] = []\n",
    "    docidx_by_domain[domain].append(i)\n",
    "    \n",
    "\n"
   ]
  },
  {
   "cell_type": "code",
   "execution_count": 3,
   "metadata": {},
   "outputs": [],
   "source": [
    "def remove_punctuation(text):\n",
    "    # Sử dụng biểu thức chính quy để loại bỏ các ký tự dấu câu\n",
    "    return re.sub(r'[^\\w\\s]', '', text)"
   ]
  },
  {
   "cell_type": "code",
   "execution_count": 4,
   "metadata": {},
   "outputs": [],
   "source": [
    "labeled_item= {\n",
    "    'hung': {\n",
    "        'start': 80706,\n",
    "        'end': 80790,\n",
    "        'labeled':[]\n",
    "    },\n",
    "    'truong': {\n",
    "        'start': 80791,\n",
    "        'end': 80875,\n",
    "        'labeled':[]\n",
    "    },\n",
    "    'thuy': {\n",
    "        'start': 80876,\n",
    "        'end': 80960,\n",
    "        'labeled':[]\n",
    "    },\n",
    "\n",
    "    'dang': {\n",
    "        'start': 80969,\n",
    "        'end': 81053,\n",
    "        'labeled':[]\n",
    "    },\n",
    "    'vinh': {\n",
    "        'start': 81054,\n",
    "        'end': 81063,\n",
    "        'labeled':[]\n",
    "    },\n",
    "}"
   ]
  },
  {
   "cell_type": "code",
   "execution_count": 5,
   "metadata": {},
   "outputs": [
    {
     "ename": "NotADirectoryError",
     "evalue": "[Errno 20] Not a directory: './pdf/20_2020_TTBTTTT_451586.pdf'",
     "output_type": "error",
     "traceback": [
      "\u001b[0;31m---------------------------------------------------------------------------\u001b[0m",
      "\u001b[0;31mNotADirectoryError\u001b[0m                        Traceback (most recent call last)",
      "\u001b[1;32m/home/vinhvq11/Desktop/PDF_extraction/fine_tuning_vgt/new dataload/prepare_training_data.ipynb Cell 6\u001b[0m line \u001b[0;36m4\n\u001b[1;32m      <a href='vscode-notebook-cell:/home/vinhvq11/Desktop/PDF_extraction/fine_tuning_vgt/new%20dataload/prepare_training_data.ipynb#X10sZmlsZQ%3D%3D?line=0'>1</a>\u001b[0m domain_mapping \u001b[39m=\u001b[39m {}\n\u001b[1;32m      <a href='vscode-notebook-cell:/home/vinhvq11/Desktop/PDF_extraction/fine_tuning_vgt/new%20dataload/prepare_training_data.ipynb#X10sZmlsZQ%3D%3D?line=2'>3</a>\u001b[0m \u001b[39mfor\u001b[39;00m domain \u001b[39min\u001b[39;00m os\u001b[39m.\u001b[39mlistdir(\u001b[39m'\u001b[39m\u001b[39m./pdf/\u001b[39m\u001b[39m'\u001b[39m):\n\u001b[0;32m----> <a href='vscode-notebook-cell:/home/vinhvq11/Desktop/PDF_extraction/fine_tuning_vgt/new%20dataload/prepare_training_data.ipynb#X10sZmlsZQ%3D%3D?line=3'>4</a>\u001b[0m     \u001b[39mfor\u001b[39;00m file \u001b[39min\u001b[39;00m tqdm(os\u001b[39m.\u001b[39;49mlistdir(os\u001b[39m.\u001b[39;49mpath\u001b[39m.\u001b[39;49mjoin(\u001b[39m'\u001b[39;49m\u001b[39m./pdf/\u001b[39;49m\u001b[39m'\u001b[39;49m,domain))):\n\u001b[1;32m      <a href='vscode-notebook-cell:/home/vinhvq11/Desktop/PDF_extraction/fine_tuning_vgt/new%20dataload/prepare_training_data.ipynb#X10sZmlsZQ%3D%3D?line=4'>5</a>\u001b[0m         \u001b[39m# Convert the PDF to images\u001b[39;00m\n\u001b[1;32m      <a href='vscode-notebook-cell:/home/vinhvq11/Desktop/PDF_extraction/fine_tuning_vgt/new%20dataload/prepare_training_data.ipynb#X10sZmlsZQ%3D%3D?line=5'>6</a>\u001b[0m         document \u001b[39m=\u001b[39m {\n\u001b[1;32m      <a href='vscode-notebook-cell:/home/vinhvq11/Desktop/PDF_extraction/fine_tuning_vgt/new%20dataload/prepare_training_data.ipynb#X10sZmlsZQ%3D%3D?line=6'>7</a>\u001b[0m             \u001b[39m\"\u001b[39m\u001b[39mfile_name\u001b[39m\u001b[39m\"\u001b[39m: file,\n\u001b[1;32m      <a href='vscode-notebook-cell:/home/vinhvq11/Desktop/PDF_extraction/fine_tuning_vgt/new%20dataload/prepare_training_data.ipynb#X10sZmlsZQ%3D%3D?line=7'>8</a>\u001b[0m             \u001b[39m\"\u001b[39m\u001b[39mdomain\u001b[39m\u001b[39m\"\u001b[39m: domain,\n\u001b[1;32m      <a href='vscode-notebook-cell:/home/vinhvq11/Desktop/PDF_extraction/fine_tuning_vgt/new%20dataload/prepare_training_data.ipynb#X10sZmlsZQ%3D%3D?line=8'>9</a>\u001b[0m             \u001b[39m\"\u001b[39m\u001b[39mdocument\u001b[39m\u001b[39m\"\u001b[39m: []\n\u001b[1;32m     <a href='vscode-notebook-cell:/home/vinhvq11/Desktop/PDF_extraction/fine_tuning_vgt/new%20dataload/prepare_training_data.ipynb#X10sZmlsZQ%3D%3D?line=9'>10</a>\u001b[0m         }\n\u001b[1;32m     <a href='vscode-notebook-cell:/home/vinhvq11/Desktop/PDF_extraction/fine_tuning_vgt/new%20dataload/prepare_training_data.ipynb#X10sZmlsZQ%3D%3D?line=10'>11</a>\u001b[0m         pdf_document \u001b[39m=\u001b[39m fitz\u001b[39m.\u001b[39mopen(os\u001b[39m.\u001b[39mpath\u001b[39m.\u001b[39mjoin(\u001b[39m'\u001b[39m\u001b[39m./pdf/\u001b[39m\u001b[39m'\u001b[39m,domain,file))\n",
      "\u001b[0;31mNotADirectoryError\u001b[0m: [Errno 20] Not a directory: './pdf/20_2020_TTBTTTT_451586.pdf'"
     ]
    }
   ],
   "source": [
    "domain_mapping = {}\n",
    "\n",
    "for domain in os.listdir('./pdf/'):\n",
    "    for file in tqdm(os.listdir(os.path.join('./pdf/',domain))):\n",
    "        # Convert the PDF to images\n",
    "        document = {\n",
    "            \"file_name\": file,\n",
    "            \"domain\": domain,\n",
    "            \"document\": []\n",
    "        }\n",
    "        pdf_document = fitz.open(os.path.join('./pdf/',domain,file))\n",
    "        file = file.replace('.pdf','')\n",
    "        # Iterate through each page\n",
    "        annotations =[{'result':[]}]\n",
    "        for page_number in range(len(pdf_document)):\n",
    "            file_name = f\"{file}_page_{page_number}.jpg\"\n",
    "            domain_mapping[file_name] = domain"
   ]
  },
  {
   "cell_type": "code",
   "execution_count": null,
   "metadata": {},
   "outputs": [],
   "source": [
    "with open('project-pages.json') as f:\n",
    "    samples = json.load(f)\n",
    "for sample in samples:\n",
    "    for key in labeled_item.keys():\n",
    "        if sample['id'] >= labeled_item[key]['start'] and sample['id'] <= labeled_item[key]['end']:\n",
    "            domain = 'None'\n",
    "            image_name = remove_punctuation(unidecode(os.path.basename(sample['data']['image'].replace('%2C',',').split('/')[-1].replace('.jpg',''))).replace(' ', '_'))\n",
    "            domain = \"None\" if image_name+'.jpg' not in domain_mapping else domain_mapping[image_name+'.jpg']\n",
    "            labeled_item[key]['labeled'].append(\n",
    "                {**sample,\n",
    "                 'domain': domain\n",
    "                }\n",
    "            )\n"
   ]
  },
  {
   "cell_type": "code",
   "execution_count": null,
   "metadata": {},
   "outputs": [],
   "source": [
    "import matplotlib"
   ]
  },
  {
   "cell_type": "code",
   "execution_count": null,
   "metadata": {},
   "outputs": [],
   "source": []
  },
  {
   "cell_type": "markdown",
   "metadata": {},
   "source": [
    "### Thống kê số lượng đã gán theo Annotator"
   ]
  },
  {
   "cell_type": "code",
   "execution_count": null,
   "metadata": {},
   "outputs": [
    {
     "data": {
      "image/png": "[encoded data removed]",
      "text/plain": [
       "<Figure size 640x480 with 1 Axes>"
      ]
     },
     "metadata": {},
     "output_type": "display_data"
    }
   ],
   "source": [
    "import matplotlib.pyplot as plt\n",
    "\n",
    "annotators = labeled_item.keys()\n",
    "# Data\n",
    "categories = list(annotators)\n",
    "values = [len(labeled_item[annotator]['labeled']) for annotator in annotators]\n",
    "\n",
    "# Plotting\n",
    "plt.bar(categories, values)\n",
    "\n",
    "# Adding labels and title\n",
    "plt.xlabel('Người gán')\n",
    "plt.ylabel('Đã gán(pages)')\n",
    "plt.title('Thống kê số  lượng đã gán')\n",
    "\n",
    "# Displaying the plot\n",
    "plt.show()"
   ]
  },
  {
   "cell_type": "code",
   "execution_count": null,
   "metadata": {},
   "outputs": [
    {
     "data": {
      "text/plain": [
       "1365"
      ]
     },
     "execution_count": 79,
     "metadata": {},
     "output_type": "execute_result"
    }
   ],
   "source": [
    "sum(values)"
   ]
  },
  {
   "cell_type": "code",
   "execution_count": null,
   "metadata": {},
   "outputs": [
    {
     "name": "stdout",
     "output_type": "stream",
     "text": [
      "{'title': 2458, 'text': 5686, 'useless': 210, 'table': 374, 'figure': 74}\n",
      "{'title': 1628, 'text': 3235, 'figure': 45, 'useless': 90, 'table': 229}\n",
      "{'useless': 18, 'text': 1053, 'title': 540, 'figure': 22, 'table': 64}\n",
      "{'useless': 26, 'text': 607, 'table': 42, 'title': 301, 'figure': 16}\n"
     ]
    }
   ],
   "source": [
    "labeled_by_type={}\n",
    "for key in labeled_item.keys():\n",
    "    label={}\n",
    "    annotations = labeled_item[key]['labeled']\n",
    "    for annotation in annotations:\n",
    "        labeleds = annotation['annotations'][0]['result']\n",
    "        for labeled in labeleds:\n",
    "            if len(labeled['value']['rectanglelabels'])==0:\n",
    "                continue\n",
    "            if labeled['value']['rectanglelabels'][0] in label:\n",
    "                label[labeled['value']['rectanglelabels'][0]]+=1\n",
    "            else:\n",
    "                label[labeled['value']['rectanglelabels'][0]]=1\n",
    "    print(label)\n",
    "    labeled_by_type[key] =label\n"
   ]
  },
  {
   "cell_type": "code",
   "execution_count": null,
   "metadata": {},
   "outputs": [
    {
     "name": "stdout",
     "output_type": "stream",
     "text": [
      "{'useless': 26, 'text': 607, 'table': 42, 'title': 301, 'figure': 16}\n"
     ]
    }
   ],
   "source": [
    "print(labeled_by_type['vinh'])"
   ]
  },
  {
   "cell_type": "code",
   "execution_count": null,
   "metadata": {},
   "outputs": [],
   "source": [
    "total = {}\n",
    "for key in labeled_by_type:\n",
    "    for label in labeled_by_type[key].keys():\n",
    "        if label in total:\n",
    "            total[label] += labeled_by_type[key][label]\n",
    "        else:\n",
    "            total[label] = labeled_by_type[key][label]"
   ]
  },
  {
   "cell_type": "code",
   "execution_count": null,
   "metadata": {},
   "outputs": [
    {
     "data": {
      "text/plain": [
       "{'title': 4927, 'text': 10581, 'useless': 344, 'table': 709, 'figure': 157}"
      ]
     },
     "execution_count": 83,
     "metadata": {},
     "output_type": "execute_result"
    }
   ],
   "source": [
    "total"
   ]
  },
  {
   "cell_type": "markdown",
   "metadata": {},
   "source": [
    "### Thống kê số lượng nhãn theo domain"
   ]
  },
  {
   "cell_type": "code",
   "execution_count": null,
   "metadata": {},
   "outputs": [],
   "source": [
    "labeled_by_domain ={}\n",
    "for key in labeled_item.keys():\n",
    "    label={}\n",
    "    annotations = labeled_item[key]['labeled']\n",
    "    for annotation in annotations:\n",
    "        domain = annotation['domain']\n",
    "        if domain not in labeled_by_domain:\n",
    "            labeled_by_domain[domain] = []\n",
    "        else:\n",
    "            labeled_by_domain[domain]+=[annotation]\n",
    "        labeleds = annotation['annotations'][0]['result']\n",
    "        "
   ]
  },
  {
   "cell_type": "code",
   "execution_count": null,
   "metadata": {},
   "outputs": [
    {
     "data": {
      "text/plain": [
       "'/data/local-files/?d=documents/IB_BIDV_Omni_HDSD_Med_page_64.jpg'"
      ]
     },
     "execution_count": 85,
     "metadata": {},
     "output_type": "execute_result"
    }
   ],
   "source": [
    "labeled_by_domain['bank'][0]['data']['image']"
   ]
  },
  {
   "cell_type": "markdown",
   "metadata": {},
   "source": [
    "### training test split"
   ]
  },
  {
   "cell_type": "code",
   "execution_count": null,
   "metadata": {},
   "outputs": [],
   "source": [
    "import random\n",
    "import shutil\n",
    "random.seed = 43\n",
    "split = 0.7"
   ]
  },
  {
   "cell_type": "code",
   "execution_count": null,
   "metadata": {},
   "outputs": [
    {
     "name": "stdout",
     "output_type": "stream",
     "text": [
      "951 409\n"
     ]
    }
   ],
   "source": [
    "trainset =[]\n",
    "testset = []\n",
    "for domain in labeled_by_domain.keys():\n",
    "    samples = labeled_by_domain[domain]\n",
    "    random.shuffle(samples)\n",
    "    splitter = int(split*len(samples))\n",
    "    train_samples = samples[:splitter]\n",
    "    test_samples = samples[splitter:]\n",
    "    trainset+=train_samples\n",
    "    testset+=test_samples\n",
    "\n",
    "print(len(trainset),len(testset))"
   ]
  },
  {
   "cell_type": "code",
   "execution_count": null,
   "metadata": {},
   "outputs": [
    {
     "name": "stdout",
     "output_type": "stream",
     "text": [
      "71903\n",
      "fail load image Cap2Bnhat2BBieu2Bphi2Btheo2Bchinh2Bsach2Bmien2Bgiam2Bphi2Btai2Bvan2Bban2B114262B2821112229_page_7.jpg\n",
      "fail load image 14_2022_NDCP_482325_28129_page_54.jpg\n",
      "fail load image 14_2022_NDCP_482325_28129_page_21.jpg\n",
      "fail load image 14_2022_NDCP_482325_28129_page_28.jpg\n",
      "fail load image 14_2022_NDCP_482325_28129_page_11.jpg\n",
      "fail load image Cap2Bnhat2BBieu2Bphi2Btheo2Bchinh2Bsach2Bmien2Bgiam2Bphi2Btai2Bvan2Bban2B114262B2821112229_page_2.jpg\n",
      "fail load image HAN2BMUC2BGIAO2BDICH2BCAC2BDICH2BVU2BCAP2BNHAT2B011222_page_4.jpg\n",
      "fail load image 14_2022_NDCP_482325_28129_page_39.jpg\n",
      "fail load image 14_2022_NDCP_482325_28129_page_22.jpg\n",
      "fail load image 14_2022_NDCP_482325_28129_page_31.jpg\n",
      "fail load image 14_2022_NDCP_482325_28129_page_16.jpg\n",
      "fail load image BIEU2BPHI2BDICH2BVU2BBAO2BLANH2BTHEO2BQD2B225_page_4.jpg\n",
      "fail load image 14_2022_NDCP_482325_28129_page_3.jpg\n",
      "fail load image BIEU2BPHI2BDICH2BVU2BBAO2BLANH2BTHEO2BQD2B225_page_1.jpg\n",
      "fail load image BIEU2BDICH2BVU2BCHUYEN2BTIEN2BNUOC2BNGOAI2B_page_1.jpg\n"
     ]
    }
   ],
   "source": [
    "# copy images file\n",
    "idx = 0\n",
    "images = []\n",
    "images_id = {}\n",
    "annotations =[]\n",
    "categories =[{'id': 0,\n",
    "            'name':\"text\"},\n",
    "            {'id': 1,\n",
    "            'name':\"title\"},\n",
    "            {'id': 2,\n",
    "            'name':\"useless\"},\n",
    "            {'id': 3,\n",
    "            'name':\"table\"},\n",
    "            {'id': 4,\n",
    "            'name':\"figure\"}]\n",
    "categories_id = {c['name']: c['id'] for c in categories}\n",
    "for sample in trainset:\n",
    "    try:\n",
    "        image_name = standardize_filename(sample['data']['image'])\n",
    "        grid_name = image_name.replace('.jpg','.pdf.pkl')\n",
    "        shutil.copyfile(f'images/{image_name}',f'dataset_v1/train/{image_name}')\n",
    "        shutil.copyfile(f'grid/{grid_name}',f'dataset_v1/grid/{grid_name}')\n",
    "        original_width = sample['annotations'][0]['result'][0]['original_width']\n",
    "        original_height = sample['annotations'][0]['result'][0]['original_height']\n",
    "        images.append({\n",
    "            'id': sample['id'],\n",
    "            'file_name': image_name,\n",
    "            'height': original_height,\n",
    "            'width': original_width\n",
    "        })\n",
    "        for annot in sample['annotations'][0]['result']:\n",
    "            x = annot['value']['x']\n",
    "            y = annot['value']['y']\n",
    "            box_width = annot['value']['width']\n",
    "            box_height = annot['value']['height']\n",
    "            x_min = x/100*original_width\n",
    "            y_min = y/100*original_height\n",
    "            box_width = box_width/100*original_width\n",
    "            box_height = box_height/100*original_height\n",
    "            bbox = [x_min, y_min,box_width, box_height]\n",
    "            try:\n",
    "                annotations.append(\n",
    "                    {\n",
    "                        \"bbox\": bbox,\n",
    "                        \"bbox_mode\": 1,\n",
    "                        \"category_id\": categories_id[annot['value']['rectanglelabels'][0]],\n",
    "                        \"image_id\": sample['id'],\n",
    "                        \"id\": idx,\n",
    "                        \"iscrowd\": 0,\n",
    "                        \"area\": box_width*box_height\n",
    "                    }\n",
    "                )\n",
    "            except:\n",
    "                print(sample['id'])\n",
    "            idx+=1\n",
    "    except:\n",
    "        print(f'fail load image {image_name}')"
   ]
  },
  {
   "cell_type": "code",
   "execution_count": null,
   "metadata": {},
   "outputs": [],
   "source": [
    "VER_DIR = 'dataset_v1'"
   ]
  },
  {
   "cell_type": "code",
   "execution_count": null,
   "metadata": {},
   "outputs": [],
   "source": [
    "\n",
    "with open(f'{VER_DIR}/train.json', 'w') as f:\n",
    "    json.dump({'images': images,\n",
    "               'annotations': annotations,\n",
    "               'categories': categories}, f, indent=4)"
   ]
  },
  {
   "cell_type": "code",
   "execution_count": null,
   "metadata": {},
   "outputs": [
    {
     "name": "stdout",
     "output_type": "stream",
     "text": [
      "fail load image 14_2022_NDCP_482325_28129_page_46.jpg\n",
      "fail load image 14_2022_NDCP_482325_28129_page_40.jpg\n",
      "fail load image BIEU2BPHI2BDICH2BVU2BBAO2BLANH2BTHEO2BQD2B225_page_3.jpg\n",
      "fail load image Cap2Bnhat2BBieu2Bphi2Btheo2Bchinh2Bsach2Bmien2Bgiam2Bphi2Btai2Bvan2Bban2B114262B2821112229_page_0.jpg\n",
      "fail load image 14_2022_NDCP_482325_28129_page_43.jpg\n",
      "fail load image 14_2022_NDCP_482325_28129_page_36.jpg\n",
      "fail load image Cap2Bnhat2BBieu2Bphi2Btheo2Bchinh2Bsach2Bmien2Bgiam2Bphi2Btai2Bvan2Bban2B114262B2821112229_page_4.jpg\n"
     ]
    }
   ],
   "source": [
    "# copy images file\n",
    "idx = 0\n",
    "images = []\n",
    "images_id = {}\n",
    "annotations =[]\n",
    "categories =[{'id': 0,\n",
    "            'name':\"text\"},\n",
    "            {'id': 1,\n",
    "            'name':\"title\"},\n",
    "            {'id': 2,\n",
    "            'name':\"useless\"},\n",
    "            {'id': 3,\n",
    "            'name':\"table\"},\n",
    "            {'id': 4,\n",
    "            'name':\"figure\"}]\n",
    "categories_id = {c['name']: c['id'] for c in categories}\n",
    "for sample in testset:\n",
    "    try:\n",
    "        image_name = standardize_filename(sample['data']['image'])\n",
    "        grid_name = image_name.replace('.jpg','.pdf.pkl')\n",
    "        shutil.copyfile(f'images/{image_name}',f'dataset_v1/val/{image_name}')\n",
    "        shutil.copyfile(f'grid/{grid_name}',f'dataset_v1/grid/{grid_name}')\n",
    "        original_width = sample['annotations'][0]['result'][0]['original_width']\n",
    "        original_height = sample['annotations'][0]['result'][0]['original_height']\n",
    "        images.append({\n",
    "            'id': sample['id'],\n",
    "            'file_name': image_name,\n",
    "            'height': original_height,\n",
    "            'width': original_width\n",
    "        })\n",
    "        for annot in sample['annotations'][0]['result']:\n",
    "            x = annot['value']['x']\n",
    "            y = annot['value']['y']\n",
    "            box_width = annot['value']['width']\n",
    "            box_height = annot['value']['height']\n",
    "            x_min = x/100*original_width\n",
    "            y_min = y/100*original_height\n",
    "            box_width = box_width/100*original_width\n",
    "            box_height = box_height/100*original_height\n",
    "            bbox = [x_min, y_min,box_width, box_height]\n",
    "            try:\n",
    "                annotations.append(\n",
    "                    {\n",
    "                        \"bbox\": bbox,\n",
    "                        \"bbox_mode\": 1,\n",
    "                        \"category_id\": categories_id[annot['value']['rectanglelabels'][0]],\n",
    "                        \"image_id\": sample['id'],\n",
    "                        \"id\": idx,\n",
    "                        \"iscrowd\": 0,\n",
    "                        \"area\": box_width*box_height\n",
    "                    }\n",
    "                )\n",
    "            except:\n",
    "                print(sample['id'])\n",
    "            idx+=1\n",
    "    except:\n",
    "        print(f'fail load image {image_name}')"
   ]
  },
  {
   "cell_type": "code",
   "execution_count": null,
   "metadata": {},
   "outputs": [],
   "source": [
    "\n",
    "with open(f'{VER_DIR}/val.json', 'w') as f:\n",
    "    json.dump({'images': images,\n",
    "               'annotations': annotations,\n",
    "               'categories': categories}, f, indent=4)"
   ]
  }
 ],
 "metadata": {
  "kernelspec": {
   "display_name": "docx2pdf",
   "language": "python",
   "name": "python3"
  },
  "language_info": {
   "codemirror_mode": {
    "name": "ipython",
    "version": 3
   },
   "file_extension": ".py",
   "mimetype": "text/x-python",
   "name": "python",
   "nbconvert_exporter": "python",
   "pygments_lexer": "ipython3",
   "version": "3.10.13"
  }
 },
 "nbformat": 4,
 "nbformat_minor": 2
}
